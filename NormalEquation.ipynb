{
 "cells": [
  {
   "cell_type": "markdown",
   "id": "93546c17-2b4e-438e-ba86-9b2bbe5e8213",
   "metadata": {},
   "source": [
    "**For Exploring Normal Equation as a non-iterative regression algorithm**\n",
    "The Normal Equation is described by theta = (X^T *X"
   ]
  }
 ],
 "metadata": {
  "kernelspec": {
   "display_name": "Octave",
   "language": "octave",
   "name": "octave"
  },
  "language_info": {
   "file_extension": ".m",
   "help_links": [
    {
     "text": "GNU Octave",
     "url": "https://www.gnu.org/software/octave/support.html"
    },
    {
     "text": "Octave Kernel",
     "url": "https://github.com/Calysto/octave_kernel"
    },
    {
     "text": "MetaKernel Magics",
     "url": "https://metakernel.readthedocs.io/en/latest/source/README.html"
    }
   ],
   "mimetype": "text/x-octave",
   "name": "octave",
   "version": "\u001b[?2004h"
  }
 },
 "nbformat": 4,
 "nbformat_minor": 5
}
