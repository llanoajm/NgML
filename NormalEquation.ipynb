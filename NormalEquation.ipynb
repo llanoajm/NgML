{
 "cells": [
  {
   "cell_type": "markdown",
   "id": "93546c17-2b4e-438e-ba86-9b2bbe5e8213",
   "metadata": {},
   "source": [
    "**For Exploring Normal Equation as a non-iterative regression algorithm**\n",
    "\n",
    "The Normal Equation is described by $ \\theta = {(X^T * X)}^{-1} * X^T * y$"
   ]
  },
  {
   "cell_type": "code",
   "execution_count": 7,
   "id": "176c0c11-5b28-4906-8f02-6cd1951eb675",
   "metadata": {},
   "outputs": [
    {
     "name": "stdout",
     "output_type": "stream",
     "text": [
      "ans =04h\u001b[?2004l\u001b[?2004l\u001b[?2004l\u001b[?2004l\n",
      "\n",
      "  -3.405556\n",
      "   0.077778\n",
      "   3.561111\n",
      "\n",
      "\u001b[?2004h"
     ]
    }
   ],
   "source": [
    "global training = [1,2,3;4,5,6;7,8,9]\n",
    "global theta = [0;0;0]\n",
    "global results = [7;9;8.4]\n",
    "\n",
    "pinv(training' * training) * training' * results"
   ]
  }
 ],
 "metadata": {
  "kernelspec": {
   "display_name": "Octave",
   "language": "octave",
   "name": "octave"
  },
  "language_info": {
   "file_extension": ".m",
   "help_links": [
    {
     "text": "GNU Octave",
     "url": "https://www.gnu.org/software/octave/support.html"
    },
    {
     "text": "Octave Kernel",
     "url": "https://github.com/Calysto/octave_kernel"
    },
    {
     "text": "MetaKernel Magics",
     "url": "https://metakernel.readthedocs.io/en/latest/source/README.html"
    }
   ],
   "mimetype": "text/x-octave",
   "name": "octave",
   "version": "\u001b[?2004h"
  }
 },
 "nbformat": 4,
 "nbformat_minor": 5
}
