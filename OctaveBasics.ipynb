{
 "cells": [
  {
   "cell_type": "markdown",
   "id": "32a377e2-06e7-48d9-94eb-8b8441895d67",
   "metadata": {},
   "source": [
    "**Basic Operations in Octave**\n",
    "\n",
    "- Displaying and printing\n",
    "- String Formating\n",
    "- matrix creation, vectorization\n",
    "- random number generation\n",
    "- basic plotting\n",
    "- help command\n",
    "- get directory info"
   ]
  },
  {
   "cell_type": "code",
   "execution_count": null,
   "id": "f04700a7-fa64-48ef-822a-5fd49f8d440c",
   "metadata": {
    "tags": []
   },
   "outputs": [],
   "source": [
    "a = pi;\n",
    "disp(a)\n",
    "disp(sprintf('2 decimals: %0.2f', a))\n",
    "format long\n",
    "a\n",
    "format short\n",
    "a"
   ]
  },
  {
   "cell_type": "code",
   "execution_count": null,
   "id": "a417b37f-e1e8-468b-8e7a-067fa5c1121d",
   "metadata": {
    "tags": []
   },
   "outputs": [],
   "source": [
    "%Matrices\n",
    "disp(v = 0:0.1:1)\n",
    "\n",
    "disp(z = 0:6)\n",
    "\n",
    "ones(2,3)*2 %scalar multiplication\n",
    "\n",
    "zeros(2,2)+0.2\n",
    "\n",
    "a = rand(3,3)\n",
    "\n",
    "randn(1,4) % drawn from a gaussian distribution\n",
    "\n",
    "eye(4) % Identitiy matrix\n",
    "\n",
    "hist(a)"
   ]
  },
  {
   "cell_type": "code",
   "execution_count": null,
   "id": "07516174-fed2-45b4-a8a2-12d2b71b0ba2",
   "metadata": {
    "tags": []
   },
   "outputs": [],
   "source": [
    "a = ones(1,4)\n",
    "size(a)\n",
    "b = size(a)\n",
    "size(a,1) %rows\n",
    "size(a,2) %columns\n",
    "length(a) % returns largest dimension"
   ]
  },
  {
   "cell_type": "code",
   "execution_count": null,
   "id": "73bdf45d-5c8b-41f6-bc5b-2296ed0c33bb",
   "metadata": {
    "tags": []
   },
   "outputs": [],
   "source": [
    "help randn"
   ]
  },
  {
   "cell_type": "code",
   "execution_count": null,
   "id": "4881d768-619b-4ca4-9800-b4901588a714",
   "metadata": {
    "tags": []
   },
   "outputs": [],
   "source": [
    "function homeDir()\n",
    "    cd \"~/ai/Ng\"\n",
    "endfunction"
   ]
  },
  {
   "cell_type": "markdown",
   "id": "e271e6f8-4947-4f63-af6e-5c78bac762ce",
   "metadata": {},
   "source": [
    "**Loading and Manipulating Data**\n",
    "\n",
    "both ```whos``` and ```who```  are key to understand run-time in octave kernel ipynb.\n",
    "\n",
    "```who``` displays variables visible from the current scope. Each cell may have a specific scope!\n",
    "\n",
    "```whos``` does the same as ```who``` and also displays weight and matrix dimensions."
   ]
  },
  {
   "cell_type": "code",
   "execution_count": null,
   "id": "7ce4196f-267a-437d-a55f-5a2ee794ac34",
   "metadata": {
    "tags": []
   },
   "outputs": [],
   "source": [
    "homeDir()\n",
    "pwd\n",
    "load('dat/airline.dat')\n",
    "airline\n",
    "who\n",
    "whos"
   ]
  },
  {
   "cell_type": "code",
   "execution_count": null,
   "id": "a2967438-14f8-424e-9a3b-766427bc276c",
   "metadata": {
    "tags": []
   },
   "outputs": [],
   "source": [
    "who\n",
    "trainingExample = airline(4, :)\n",
    "cd savedVars\n",
    "pwd\n",
    "save example.mat trainingExample\n",
    "save exampleAscii.mat trainingExample -ascii\n",
    "homeDir()\n",
    "pwd"
   ]
  },
  {
   "cell_type": "code",
   "execution_count": null,
   "id": "5f02058b-d974-490d-af60-f5e6370bb2cc",
   "metadata": {
    "tags": []
   },
   "outputs": [],
   "source": [
    "twoExamples = airline([3,6], :) % gets rows 3 and 6\n",
    "otherTwoExamples = airline([1,4], :) % gets rows 1 and 4\n",
    "twoExamples = [twoExamples, [2;1]]\n",
    "otherTwoExamples = [otherTwoExamples, [1;5]]\n",
    "twoExamples(:)\n",
    "c = [twoExamples otherTwoExamples]"
   ]
  },
  {
   "cell_type": "code",
   "execution_count": null,
   "id": "e615fb7d-1a4f-49e9-a748-5669f78ef892",
   "metadata": {},
   "outputs": [
    {
     "name": "stdout",
     "output_type": "stream",
     "text": [
      "Variables visible from the current scope:\n",
      "\n",
      "variables in scope: top scope\n",
      "\n",
      "  Attr   Name                  Size                     Bytes  Class\n",
      "  ====   ====                  ====                     =====  ===== \n",
      "         airline              32x6                       1536  double\n",
      "         ans                  14x1                        112  double\n",
      "         c                     2x14                       224  double\n",
      "         otherTwoExamples      2x7                        112  double\n",
      "         trainingExample       1x6                         48  double\n",
      "         twoExamples           2x7                        112  double\n",
      "\n",
      "Total is 268 elements using 2144 bytes\n",
      "\n",
      "\u001b[?2004h"
     ]
    }
   ],
   "source": [
    "whos"
   ]
  },
  {
   "cell_type": "markdown",
   "id": "82574e7e-458d-42b5-9df9-426a148e7430",
   "metadata": {},
   "source": [
    "**Matrix Operations**\n",
    "\n",
    "\n",
    "```A .* B``` yields element-by-element scalar multiplication in equally-dimensioned matrices or matrix-scalar\n",
    "\n",
    "```A ./ B``` yields element-by-element scalar division in equally-dimensioned matrices or matrix-scalar\n",
    "\n",
    "```A .^ B``` yields element-wise exponentiation in matrix-scalar pair"
   ]
  },
  {
   "cell_type": "code",
   "execution_count": 129,
   "id": "cc4cd49d-5c56-492b-b5f7-2b450e43205c",
   "metadata": {},
   "outputs": [
    {
     "name": "stdout",
     "output_type": "stream",
     "text": [
      "g =2004l\n",
      "\n",
      "   0.9686\n",
      "        0\n",
      "  -1.0000\n",
      "\n",
      "a =2004h\u001b[?2004l\u001b[?2004l\u001b[?2004l\u001b[?2004l\n",
      "\n",
      "  -1\n",
      "  -2\n",
      "  -3\n",
      "\n",
      "a =2004h\u001b[?2004l\n",
      "\n",
      "   0\n",
      "  -1\n",
      "  -2\n",
      "\n",
      "a =2004h\u001b[?2004l\n",
      "\n",
      "   1\n",
      "   0\n",
      "  -1\n",
      "\n",
      "ans = 1h\u001b[?2004l\n",
      "val = -1\u001b[?2004l\n",
      "ind = 3\n",
      "ans =04h\u001b[?2004l\n",
      "\n",
      "  1  0  0\n",
      "\n",
      "ans =04h\u001b[?2004l\n",
      "\n",
      "   4   3\n",
      "   1   2\n",
      "\n",
      "r =2004h\u001b[?2004l\n",
      "\n",
      "   1\n",
      "   2\n",
      "\n",
      "c =\n",
      "\n",
      "   1\n",
      "   1\n",
      "\n",
      "ans =04h\u001b[?2004l\n",
      "\n",
      "   1   1\n",
      "   2   1\n",
      "\n",
      "ans = 0h\u001b[?2004l\n",
      "ans =04h\u001b[?2004l\n",
      "\n",
      "   1\n",
      "   0\n",
      "  -1\n",
      "\n",
      "t =2004h\u001b[?2004l\n",
      "\n",
      "   1\n",
      "   0\n",
      "  -1\n",
      "\n",
      "\u001b[?2004h"
     ]
    }
   ],
   "source": [
    "clear all\n",
    "a = [1;-2;-3];\n",
    "a = -(abs(a))\n",
    "a += 1\n",
    "a += ones(length(a), 1)\n",
    "max(a)\n",
    "[val, ind] = min(a)\n",
    "(a > 0)'\n",
    "magic(2)\n",
    "[r,c] = find(a>-1)\n",
    "[r, [c]]\n",
    "prod(a)\n",
    "floor(a)\n",
    "g = min(a, rand(3,1))"
   ]
  }
 ],
 "metadata": {
  "kernelspec": {
   "display_name": "Octave",
   "language": "octave",
   "name": "octave"
  },
  "language_info": {
   "file_extension": ".m",
   "help_links": [
    {
     "text": "GNU Octave",
     "url": "https://www.gnu.org/software/octave/support.html"
    },
    {
     "text": "Octave Kernel",
     "url": "https://github.com/Calysto/octave_kernel"
    },
    {
     "text": "MetaKernel Magics",
     "url": "https://metakernel.readthedocs.io/en/latest/source/README.html"
    }
   ],
   "mimetype": "text/x-octave",
   "name": "octave",
   "version": "\u001b[?2004h"
  }
 },
 "nbformat": 4,
 "nbformat_minor": 5
}
