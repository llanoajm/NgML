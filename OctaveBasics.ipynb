{
 "cells": [
  {
   "cell_type": "markdown",
   "id": "32a377e2-06e7-48d9-94eb-8b8441895d67",
   "metadata": {},
   "source": [
    "**Basic Operations in Octave**\n",
    "\n",
    "- Displaying and printing\n",
    "- String Formating\n",
    "- matrix creation, vectorization\n",
    "- random number generation\n",
    "- basic plotting\n",
    "- help command\n",
    "- get directory info"
   ]
  },
  {
   "cell_type": "code",
   "execution_count": null,
   "id": "f04700a7-fa64-48ef-822a-5fd49f8d440c",
   "metadata": {
    "tags": []
   },
   "outputs": [],
   "source": [
    "a = pi;\n",
    "disp(a)\n",
    "disp(sprintf('2 decimals: %0.2f', a))\n",
    "format long\n",
    "a\n",
    "format short\n",
    "a"
   ]
  },
  {
   "cell_type": "code",
   "execution_count": null,
   "id": "a417b37f-e1e8-468b-8e7a-067fa5c1121d",
   "metadata": {
    "tags": []
   },
   "outputs": [],
   "source": [
    "%Matrices\n",
    "disp(v = 0:0.1:1)\n",
    "\n",
    "disp(z = 0:6)\n",
    "\n",
    "ones(2,3)*2 %scalar multiplication\n",
    "\n",
    "zeros(2,2)+0.2\n",
    "\n",
    "a = rand(3,3)\n",
    "\n",
    "randn(1,4) % drawn from a gaussian distribution\n",
    "\n",
    "eye(4) % Identitiy matrix\n",
    "\n",
    "hist(a)"
   ]
  },
  {
   "cell_type": "code",
   "execution_count": null,
   "id": "07516174-fed2-45b4-a8a2-12d2b71b0ba2",
   "metadata": {
    "tags": []
   },
   "outputs": [],
   "source": [
    "a = ones(1,4)\n",
    "size(a)\n",
    "b = size(a)\n",
    "size(a,1) %rows\n",
    "size(a,2) %columns\n",
    "length(a) % returns largest dimension"
   ]
  },
  {
   "cell_type": "code",
   "execution_count": null,
   "id": "73bdf45d-5c8b-41f6-bc5b-2296ed0c33bb",
   "metadata": {
    "tags": []
   },
   "outputs": [],
   "source": [
    "help randn"
   ]
  },
  {
   "cell_type": "code",
   "execution_count": null,
   "id": "4881d768-619b-4ca4-9800-b4901588a714",
   "metadata": {
    "tags": []
   },
   "outputs": [],
   "source": [
    "function homeDir()\n",
    "    cd \"~/ai/Ng\"\n",
    "endfunction"
   ]
  },
  {
   "cell_type": "markdown",
   "id": "e271e6f8-4947-4f63-af6e-5c78bac762ce",
   "metadata": {},
   "source": [
    "**Loading and Manipulating Data**\n",
    "\n",
    "both ```whos``` and ```who```  are key to understand run-time in octave kernel ipynb.\n",
    "\n",
    "```who``` displays variables visible from the current scope. Each cell may have a specific scope!\n",
    "\n",
    "```whos``` does the same as ```who``` and also displays weight and matrix dimensions."
   ]
  },
  {
   "cell_type": "code",
   "execution_count": null,
   "id": "7ce4196f-267a-437d-a55f-5a2ee794ac34",
   "metadata": {
    "tags": []
   },
   "outputs": [],
   "source": [
    "homeDir()\n",
    "pwd\n",
    "load('dat/airline.dat')\n",
    "airline\n",
    "who\n",
    "whos"
   ]
  },
  {
   "cell_type": "code",
   "execution_count": null,
   "id": "a2967438-14f8-424e-9a3b-766427bc276c",
   "metadata": {
    "tags": []
   },
   "outputs": [],
   "source": [
    "who\n",
    "trainingExample = airline(4, :)\n",
    "cd savedVars\n",
    "pwd\n",
    "save example.mat trainingExample\n",
    "save exampleAscii.mat trainingExample -ascii\n",
    "homeDir()\n",
    "pwd"
   ]
  },
  {
   "cell_type": "code",
   "execution_count": null,
   "id": "5f02058b-d974-490d-af60-f5e6370bb2cc",
   "metadata": {
    "tags": []
   },
   "outputs": [],
   "source": [
    "twoExamples = airline([3,6], :) % gets rows 3 and 6\n",
    "otherTwoExamples = airline([1,4], :) % gets rows 1 and 4\n",
    "twoExamples = [twoExamples, [2;1]]\n",
    "otherTwoExamples = [otherTwoExamples, [1;5]]\n",
    "twoExamples(:)\n",
    "c = [twoExamples otherTwoExamples]"
   ]
  },
  {
   "cell_type": "code",
   "execution_count": null,
   "id": "e615fb7d-1a4f-49e9-a748-5669f78ef892",
   "metadata": {},
   "outputs": [],
   "source": [
    "whos"
   ]
  },
  {
   "cell_type": "markdown",
   "id": "82574e7e-458d-42b5-9df9-426a148e7430",
   "metadata": {},
   "source": [
    "**Matrix Operations**\n",
    "\n",
    "\n",
    "```A .* B``` yields element-by-element scalar multiplication in equally-dimensioned matrices or matrix-scalar\n",
    "\n",
    "```A ./ B``` yields element-by-element scalar division in equally-dimensioned matrices or matrix-scalar\n",
    "\n",
    "```A .^ B``` yields element-wise exponentiation in matrix-scalar pair"
   ]
  },
  {
   "cell_type": "code",
   "execution_count": null,
   "id": "cc4cd49d-5c56-492b-b5f7-2b450e43205c",
   "metadata": {},
   "outputs": [],
   "source": [
    "clear all\n",
    "a = [1;-2;-3];\n",
    "a = -(abs(a))\n",
    "a += 1\n",
    "a += ones(length(a), 1)\n",
    "max(a)\n",
    "[val, ind] = min(a)\n",
    "(a > 0)'\n",
    "magic(2)\n",
    "[r,c] = find(a>-1)\n",
    "[r, [c]]\n",
    "prod(a)\n",
    "floor(a)\n",
    "g = min(a, rand(3,1)) % element-wise min\n",
    "minInRow = min(a, [], 1)\n",
    "minInRow\n",
    "minInColumn = min(a, [], 2)"
   ]
  },
  {
   "cell_type": "code",
   "execution_count": null,
   "id": "213c10c0-87b2-4b56-b0ba-db1cfd996ae3",
   "metadata": {},
   "outputs": [],
   "source": [
    "A = [1 2 3; 4 5 6; 7 8 9]\n",
    "max(A)\n",
    "max(max(A))\n",
    "A(:)\n",
    "max(A)"
   ]
  },
  {
   "cell_type": "code",
   "execution_count": null,
   "id": "40737f6c-28d9-42dd-a751-bd5885e9d9f4",
   "metadata": {},
   "outputs": [],
   "source": [
    "A = [1 2 3; 4 5 6; 7 8 9]\n",
    "C = prod(A)\n",
    "B = prod(A')\n",
    "max(prod(A)) % max column prod\n",
    "max(prod(A'))  % max row prod"
   ]
  },
  {
   "cell_type": "markdown",
   "id": "81326e7a-125b-4c22-964c-a3d17ee97e85",
   "metadata": {},
   "source": [
    "**Summation**"
   ]
  },
  {
   "cell_type": "code",
   "execution_count": 14,
   "id": "1b5abd75-00c2-46c2-b072-e26923b1e74f",
   "metadata": {},
   "outputs": [
    {
     "name": "stdout",
     "output_type": "stream",
     "text": [
      "j =2004l\n",
      "\n",
      "   8   1   6\n",
      "   3   5   7\n",
      "   4   9   2\n",
      "\n",
      "ans =04h\u001b[?2004l\n",
      "\n",
      "   15   15   15\n",
      "\n",
      "ans =04h\u001b[?2004l\n",
      "\n",
      "   15\n",
      "   15\n",
      "   15\n",
      "\n",
      "diag =4h\u001b[?2004l\n",
      "\n",
      "   8   5   2\n",
      "\n",
      "ans = 15\u001b[?2004l\n",
      "otherDiag =2004l\n",
      "\n",
      "   4   5   6\n",
      "\n",
      "ans = 15\u001b[?2004l\n",
      "\u001b[?2004h"
     ]
    }
   ],
   "source": [
    "j = magic(3)\n",
    "sum(j,1)\n",
    "sum(j,2)\n",
    "diag = sum(j.*eye(3))\n",
    "sum(diag) % can also be sum(diag,1) or sum(diag, 2), but they are all the same in this case\n",
    "otherDiag = sum(j.*flipud(eye(3)))\n",
    "sum(otherDiag)"
   ]
  },
  {
   "cell_type": "markdown",
   "id": "78bd9fc0-619f-4861-9046-d41398447eeb",
   "metadata": {},
   "source": [
    "**Plotting**"
   ]
  },
  {
   "cell_type": "code",
   "execution_count": 44,
   "id": "15c92804-0020-4704-aa7f-d822f6346799",
   "metadata": {},
   "outputs": [
    {
     "name": "stdout",
     "output_type": "stream",
     "text": [
      "error: operator *: nonconformant arguments (op1 is 1x5, op2 is 1x5)\n",
      "error: __plt2vv__: vector lengths must match\n",
      "error: called from\n",
      "    __plt__>__plt2vv__ at line 488 column 5\n",
      "    __plt__>__plt2__ at line 247 column 14\n",
      "    __plt__ at line 114 column 16\n",
      "    plot at line 235 column 10\n",
      "\u001b[?2004h"
     ]
    },
    {
     "data": {
      "image/png": "[encoded data removed]",
      "text/plain": [
       "<IPython.core.display.Image object>"
      ]
     },
     "metadata": {},
     "output_type": "display_data"
    }
   ],
   "source": [
    "times = [1,6,2,4,5];\n",
    "speed = 5 * times * times.^2\n",
    "plot(times, speed)"
   ]
  }
 ],
 "metadata": {
  "kernelspec": {
   "display_name": "Octave",
   "language": "octave",
   "name": "octave"
  },
  "language_info": {
   "file_extension": ".m",
   "help_links": [
    {
     "text": "GNU Octave",
     "url": "https://www.gnu.org/software/octave/support.html"
    },
    {
     "text": "Octave Kernel",
     "url": "https://github.com/Calysto/octave_kernel"
    },
    {
     "text": "MetaKernel Magics",
     "url": "https://metakernel.readthedocs.io/en/latest/source/README.html"
    }
   ],
   "mimetype": "text/x-octave",
   "name": "octave",
   "version": "\u001b[?2004h"
  }
 },
 "nbformat": 4,
 "nbformat_minor": 5
}
