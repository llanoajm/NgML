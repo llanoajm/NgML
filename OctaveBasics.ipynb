{
 "cells": [
  {
   "cell_type": "markdown",
   "id": "32a377e2-06e7-48d9-94eb-8b8441895d67",
   "metadata": {},
   "source": [
    "**Basic Operations in Octave**\n",
    "\n",
    "- Displaying and printing\n",
    "- String Formating\n",
    "- matrix creation, vectorization\n",
    "- random number generation\n",
    "- basic plotting\n",
    "- help command\n",
    "- get directory info"
   ]
  },
  {
   "cell_type": "code",
   "execution_count": null,
   "id": "f04700a7-fa64-48ef-822a-5fd49f8d440c",
   "metadata": {},
   "outputs": [],
   "source": [
    "a = pi;\n",
    "disp(a)\n",
    "disp(sprintf('2 decimals: %0.2f', a))\n",
    "format long\n",
    "a\n",
    "format short\n",
    "a"
   ]
  },
  {
   "cell_type": "code",
   "execution_count": null,
   "id": "a417b37f-e1e8-468b-8e7a-067fa5c1121d",
   "metadata": {},
   "outputs": [],
   "source": [
    "%Matrices\n",
    "disp(v = 0:0.1:1)\n",
    "\n",
    "disp(z = 0:6)\n",
    "\n",
    "ones(2,3)*2 %scalar multiplication\n",
    "\n",
    "zeros(2,2)+0.2\n",
    "\n",
    "a = rand(3,3)\n",
    "\n",
    "randn(1,4) % drawn from a gaussian distribution\n",
    "\n",
    "eye(4) % Identitiy matrix\n",
    "\n",
    "hist(a)"
   ]
  },
  {
   "cell_type": "code",
   "execution_count": null,
   "id": "07516174-fed2-45b4-a8a2-12d2b71b0ba2",
   "metadata": {},
   "outputs": [],
   "source": [
    "a = ones(1,4)\n",
    "size(a)\n",
    "b = size(a)\n",
    "size(a,1) %rows\n",
    "size(a,2) %columns\n",
    "length(a) % returns largest dimension"
   ]
  },
  {
   "cell_type": "code",
   "execution_count": null,
   "id": "73bdf45d-5c8b-41f6-bc5b-2296ed0c33bb",
   "metadata": {},
   "outputs": [],
   "source": [
    "help randn"
   ]
  },
  {
   "cell_type": "code",
   "execution_count": null,
   "id": "4881d768-619b-4ca4-9800-b4901588a714",
   "metadata": {},
   "outputs": [],
   "source": [
    "function homeDir()\n",
    "    cd \"~/ai/Ng\"\n",
    "endfunction"
   ]
  },
  {
   "cell_type": "markdown",
   "id": "e271e6f8-4947-4f63-af6e-5c78bac762ce",
   "metadata": {},
   "source": [
    "**Loading and Manipulating Data**\n",
    "\n",
    "both ```whos``` and ```who```  are key to understand run-time in octave kernel ipynb.\n",
    "\n",
    "```who``` displays variables visible from the current scope. Each cell may have a specific scope!\n",
    "\n",
    "```whos``` does the same as ```who``` and also displays weight and matrix dimensions."
   ]
  },
  {
   "cell_type": "code",
   "execution_count": null,
   "id": "7ce4196f-267a-437d-a55f-5a2ee794ac34",
   "metadata": {},
   "outputs": [],
   "source": [
    "homeDir()\n",
    "pwd\n",
    "load('dat/airline.dat')\n",
    "airline\n",
    "who\n",
    "whos"
   ]
  },
  {
   "cell_type": "code",
   "execution_count": null,
   "id": "a2967438-14f8-424e-9a3b-766427bc276c",
   "metadata": {},
   "outputs": [],
   "source": [
    "who\n",
    "trainingExample = airline(4, :)\n",
    "cd savedVars\n",
    "pwd\n",
    "save example.mat trainingExample\n",
    "save exampleAscii.mat trainingExample -ascii\n",
    "homeDir()\n",
    "pwd"
   ]
  },
  {
   "cell_type": "code",
   "execution_count": 88,
   "id": "5f02058b-d974-490d-af60-f5e6370bb2cc",
   "metadata": {},
   "outputs": [
    {
     "name": "stdout",
     "output_type": "stream",
     "text": [
      "twoExamples =\n",
      "\n",
      "   1.9500e+03   1.5690e+00   2.7800e-01   3.1570e-01   1.3880e+00   5.7300e-01\n",
      "   1.9530e+03   2.7310e+00   3.2200e-01   3.5930e-01   1.9260e+00   7.1100e-01\n",
      "\n",
      "otherTwoExamples =\n",
      "\n",
      "   1.9480e+03   1.2140e+00   2.4300e-01   1.4540e-01   1.4150e+00   6.1200e-01\n",
      "   1.9510e+03   1.9480e+00   2.9700e-01   3.9400e-01   1.5500e+00   5.6400e-01\n",
      "\n",
      "twoExamples =04l\n",
      "\n",
      " Columns 1 through 6:\n",
      "\n",
      "   1.9500e+03   1.5690e+00   2.7800e-01   3.1570e-01   1.3880e+00   5.7300e-01\n",
      "   1.9530e+03   2.7310e+00   3.2200e-01   3.5930e-01   1.9260e+00   7.1100e-01\n",
      "\n",
      " Column 7:\n",
      "\n",
      "   2.0000e+00\n",
      "   1.0000e+00\n",
      "\n",
      "otherTwoExamples =\n",
      "\n",
      " Columns 1 through 6:\n",
      "\n",
      "   1.9480e+03   1.2140e+00   2.4300e-01   1.4540e-01   1.4150e+00   6.1200e-01\n",
      "   1.9510e+03   1.9480e+00   2.9700e-01   3.9400e-01   1.5500e+00   5.6400e-01\n",
      "\n",
      " Column 7:\n",
      "\n",
      "   1.0000e+00\n",
      "   5.0000e+00\n",
      "\n",
      "ans =04h\u001b[?2004l\n",
      "\n",
      "   1.9500e+03\n",
      "   1.9530e+03\n",
      "   1.5690e+00\n",
      "   2.7310e+00\n",
      "   2.7800e-01\n",
      "   3.2200e-01\n",
      "   3.1570e-01\n",
      "   3.5930e-01\n",
      "   1.3880e+00\n",
      "   1.9260e+00\n",
      "   5.7300e-01\n",
      "   7.1100e-01\n",
      "   2.0000e+00\n",
      "   1.0000e+00\n",
      "\n",
      "c =2004h\u001b[?2004l\n",
      "\n",
      " Columns 1 through 6:\n",
      "\n",
      "   1.9500e+03   1.5690e+00   2.7800e-01   3.1570e-01   1.3880e+00   5.7300e-01\n",
      "   1.9530e+03   2.7310e+00   3.2200e-01   3.5930e-01   1.9260e+00   7.1100e-01\n",
      "\n",
      " Columns 7 through 12:\n",
      "\n",
      "   2.0000e+00   1.9480e+03   1.2140e+00   2.4300e-01   1.4540e-01   1.4150e+00\n",
      "   1.0000e+00   1.9510e+03   1.9480e+00   2.9700e-01   3.9400e-01   1.5500e+00\n",
      "\n",
      " Columns 13 and 14:\n",
      "\n",
      "   6.1200e-01   1.0000e+00\n",
      "   5.6400e-01   5.0000e+00\n",
      "\n",
      "\u001b[?2004h"
     ]
    }
   ],
   "source": [
    "twoExamples = airline([3,6], :) % gets rows 3 and 6\n",
    "otherTwoExamples = airline([1,4], :) % gets rows 1 and 4\n",
    "twoExamples = [twoExamples, [2;1]]\n",
    "otherTwoExamples = [otherTwoExamples, [1;5]]\n",
    "twoExamples(:)\n",
    "c = [twoExamples otherTwoExamples]"
   ]
  }
 ],
 "metadata": {
  "kernelspec": {
   "display_name": "Octave",
   "language": "octave",
   "name": "octave"
  },
  "language_info": {
   "file_extension": ".m",
   "help_links": [
    {
     "text": "GNU Octave",
     "url": "https://www.gnu.org/software/octave/support.html"
    },
    {
     "text": "Octave Kernel",
     "url": "https://github.com/Calysto/octave_kernel"
    },
    {
     "text": "MetaKernel Magics",
     "url": "https://metakernel.readthedocs.io/en/latest/source/README.html"
    }
   ],
   "mimetype": "text/x-octave",
   "name": "octave",
   "version": "\u001b[?2004h"
  }
 },
 "nbformat": 4,
 "nbformat_minor": 5
}
