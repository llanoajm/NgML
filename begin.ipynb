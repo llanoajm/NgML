{
 "cells": [
  {
   "cell_type": "markdown",
   "id": "85a9f2e5-7ea6-4e78-8a9e-9d7722e91273",
   "metadata": {},
   "source": [
    "***Gradient Descent Algorithm from scratch*** \n",
    "\n",
    "*Data Fetching w Feature Scaling and Mean Regularization.*\n",
    "\n",
    "*Simultaneous updating for weigths according to the cost function*\n",
    "\n",
    "*User-defined iterations and learning rate*\n",
    "\n",
    "*Automatic measure of convergence -- no plotting*\n",
    "\n",
    "no normal equation"
   ]
  },
  {
   "cell_type": "code",
   "execution_count": 12,
   "id": "b566afd8-5466-413c-88de-ddc603de0106",
   "metadata": {},
   "outputs": [
    {
     "name": "stdout",
     "output_type": "stream",
     "text": [
      "\u001b[?2004h\u001b[?2004l\u001b[?2004l\u001b[?2004l\u001b[?2004l\u001b[?2004l\u001b[?2004l\u001b[?2004l\u001b[?2004l"
     ]
    }
   ],
   "source": [
    "function setup\n",
    "    training = [1,2,3;4,5,6; 7,8,9]\n",
    "    theta = [1; 1; 1]\n",
    "    theta = theta'\n",
    "    training = training'\n",
    "    theta * training\n",
    "    rows = @(training) size(training,1);\n",
    "    beginTraining(rows, training, theta)\n",
    "endfunction"
   ]
  },
  {
   "cell_type": "code",
   "execution_count": 13,
   "id": "f2d546bd-8ecf-43c9-a5b4-8b3dc26ae996",
   "metadata": {},
   "outputs": [
    {
     "name": "stdout",
     "output_type": "stream",
     "text": [
      "\u001b[?2004h\u001b[?2004l\u001b[?2004l\u001b[?2004l\u001b[?2004l\u001b[?2004l\u001b[?2004l"
     ]
    }
   ],
   "source": [
    "function performance(m, theta, training)\n",
    "    cost = 0\n",
    "    training = training'\n",
    "    for i = 0:m\n",
    "        theta * training(1,:)\n",
    "    endfor\n",
    "endfunction"
   ]
  },
  {
   "cell_type": "code",
   "execution_count": 14,
   "id": "e4b0b3e3-355a-4e42-a428-cca46c0f3083",
   "metadata": {},
   "outputs": [
    {
     "name": "stdout",
     "output_type": "stream",
     "text": [
      "\u001b[?2004h\u001b[?2004l\u001b[?2004l\u001b[?2004l\u001b[?2004l"
     ]
    }
   ],
   "source": [
    "function sim_update(theta, training)\n",
    "    cols = @(training) size(training,2);\n",
    "    rows = @(training) size(training,1);\n",
    "    performance(cols, theta, training)\n",
    "endfunction"
   ]
  },
  {
   "cell_type": "code",
   "execution_count": 15,
   "id": "f6bd2d0c-195e-4c2b-b56a-d45b82122e61",
   "metadata": {
    "tags": []
   },
   "outputs": [
    {
     "name": "stdout",
     "output_type": "stream",
     "text": [
      "\u001b[?2004h\u001b[?2004l\u001b[?2004l"
     ]
    }
   ],
   "source": [
    "function beginTraining(iterations, training, theta)\n",
    "    sim_update(theta, training)\n",
    "endfunction"
   ]
  },
  {
   "cell_type": "code",
   "execution_count": 17,
   "id": "3548ea9b-1cf3-4edd-a8d7-acc7a0430b86",
   "metadata": {
    "tags": []
   },
   "outputs": [
    {
     "name": "stdout",
     "output_type": "stream",
     "text": [
      "training =\n",
      "\n",
      "   1   2   3\n",
      "   4   5   6\n",
      "   7   8   9\n",
      "\n",
      "theta =\n",
      "\n",
      "   1\n",
      "   1\n",
      "   1\n",
      "\n",
      "theta =\n",
      "\n",
      "   1   1   1\n",
      "\n",
      "training =\n",
      "\n",
      "   1   4   7\n",
      "   2   5   8\n",
      "   3   6   9\n",
      "\n",
      "ans =\n",
      "\n",
      "    6   15   24\n",
      "\n",
      "cost = 0\n",
      "training =\n",
      "\n",
      "   1   2   3\n",
      "   4   5   6\n",
      "   7   8   9\n",
      "\n",
      "error: invalid types found in range expression\n",
      "error: called from\n",
      "    performance at line 4 column 5\n",
      "    sim_update at line 4 column 5\n",
      "    beginTraining at line 2 column 5\n",
      "    setup at line 8 column 5\n",
      "\u001b[?2004h"
     ]
    }
   ],
   "source": [
    "setup()"
   ]
  },
  {
   "cell_type": "code",
   "execution_count": null,
   "id": "59cb393a-a5f0-49bb-898c-d22f09a8f9fd",
   "metadata": {},
   "outputs": [],
   "source": []
  }
 ],
 "metadata": {
  "kernelspec": {
   "display_name": "Octave",
   "language": "octave",
   "name": "octave"
  },
  "language_info": {
   "file_extension": ".m",
   "help_links": [
    {
     "text": "GNU Octave",
     "url": "https://www.gnu.org/software/octave/support.html"
    },
    {
     "text": "Octave Kernel",
     "url": "https://github.com/Calysto/octave_kernel"
    },
    {
     "text": "MetaKernel Magics",
     "url": "https://metakernel.readthedocs.io/en/latest/source/README.html"
    }
   ],
   "mimetype": "text/x-octave",
   "name": "octave",
   "version": "\u001b[?2004h"
  }
 },
 "nbformat": 4,
 "nbformat_minor": 5
}
