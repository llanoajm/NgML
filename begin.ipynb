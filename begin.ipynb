{
 "cells": [
  {
   "cell_type": "markdown",
   "id": "85a9f2e5-7ea6-4e78-8a9e-9d7722e91273",
   "metadata": {},
   "source": [
    "***Gradient Descent Algorithm from scratch*** \n",
    "\n",
    "*Data Fetching w Feature Scaling and Mean Regularization.*\n",
    "\n",
    "*Simultaneous updating for weigths according to the cost function*\n",
    "\n",
    "*User-defined iterations and learning rate*\n",
    "\n",
    "*Automatic measure of convergence -- no plotting*\n",
    "\n",
    "no normal equation\n",
    "\n",
    "**TODO**\n",
    "\n",
    "- feature scaling\n",
    "- updating theta\n",
    "- measure of convergence\n",
    "- calculating derivative in performance function"
   ]
  },
  {
   "cell_type": "code",
   "execution_count": 139,
   "id": "b566afd8-5466-413c-88de-ddc603de0106",
   "metadata": {},
   "outputs": [
    {
     "name": "stdout",
     "output_type": "stream",
     "text": [
      "\u001b[?2004h\u001b[?2004l\u001b[?2004l\u001b[?2004l\u001b[?2004l\u001b[?2004l\u001b[?2004l\u001b[?2004l\u001b[?2004l\u001b[?2004l"
     ]
    }
   ],
   "source": [
    "function setup\n",
    "    training = [1,2,3;4,5,6; 7,8,9]\n",
    "    theta = [1; 1; 1];\n",
    "    theta = theta'\n",
    "    results = [200;300;400]\n",
    "    \n",
    "    #feature scaling\n",
    "    beginTraining(1, training, theta, results)\n",
    "    \n",
    "endfunction"
   ]
  },
  {
   "cell_type": "code",
   "execution_count": 140,
   "id": "f2d546bd-8ecf-43c9-a5b4-8b3dc26ae996",
   "metadata": {},
   "outputs": [
    {
     "name": "stdout",
     "output_type": "stream",
     "text": [
      "\u001b[?2004h\u001b[?2004l\u001b[?2004l\u001b[?2004l\u001b[?2004l\u001b[?2004l\u001b[?2004l\u001b[?2004l\u001b[?2004l\u001b[?2004l\u001b[?2004l\u001b[?2004l\u001b[?2004l\u001b[?2004l"
     ]
    }
   ],
   "source": [
    "function performance(theta, training, results, feature)\n",
    "    m = size(training,1);\n",
    "    n = size(training,2);\n",
    "    \n",
    "    cost = 0\n",
    "    for i = 1:m #cut m\n",
    "        for j = 1:n\n",
    "            scalar = theta(1,[j]) * training(i,[j])\n",
    "            cost += scalar\n",
    "        endfor\n",
    "        cost -= results(i,[1])\n",
    "        cost = cost*cost\n",
    "    endfor\n",
    "endfunction"
   ]
  },
  {
   "cell_type": "code",
   "execution_count": 141,
   "id": "ec44dc56-d892-4b23-b1e2-13e7eb4ad813",
   "metadata": {},
   "outputs": [
    {
     "name": "stdout",
     "output_type": "stream",
     "text": [
      "\u001b[?2004h\u001b[?2004l\u001b[?2004l\u001b[?2004l\u001b[?2004l\u001b[?2004l\u001b[?2004l\u001b[?2004l\u001b[?2004l\u001b[?2004l"
     ]
    }
   ],
   "source": [
    "function sim_update(theta, training, results)\n",
    "    m = size(training,2);\n",
    "    learning_rate = 0.5;\n",
    "    for f = 1:m\n",
    "        theta(1,f) = 0 #learning_rate * [derivative * performance(theta, training, results)] / [derivative] + theta(1,f)\n",
    "    \n",
    "    endfor\n",
    "    #update theta\n",
    "    \n",
    "endfunction"
   ]
  },
  {
   "cell_type": "code",
   "execution_count": 142,
   "id": "f6bd2d0c-195e-4c2b-b56a-d45b82122e61",
   "metadata": {
    "tags": []
   },
   "outputs": [
    {
     "name": "stdout",
     "output_type": "stream",
     "text": [
      "\u001b[?2004h\u001b[?2004l\u001b[?2004l\u001b[?2004l\u001b[?2004l"
     ]
    }
   ],
   "source": [
    "function beginTraining(iterations, training, theta, results)\n",
    "    for i = 1:iterations\n",
    "        sim_update(theta, training, results)\n",
    "    endfor\n",
    "endfunction"
   ]
  },
  {
   "cell_type": "code",
   "execution_count": 143,
   "id": "3548ea9b-1cf3-4edd-a8d7-acc7a0430b86",
   "metadata": {
    "tags": []
   },
   "outputs": [
    {
     "name": "stdout",
     "output_type": "stream",
     "text": [
      "training =\n",
      "\n",
      "   1   2   3\n",
      "   4   5   6\n",
      "   7   8   9\n",
      "\n",
      "theta =\n",
      "\n",
      "   1   1   1\n",
      "\n",
      "results =\n",
      "\n",
      "   200\n",
      "   300\n",
      "   400\n",
      "\n",
      "theta =\n",
      "\n",
      "   0   1   1\n",
      "\n",
      "theta =\n",
      "\n",
      "   0   0   1\n",
      "\n",
      "theta =\n",
      "\n",
      "   0   0   0\n",
      "\n",
      "\u001b[?2004h"
     ]
    }
   ],
   "source": [
    "setup()"
   ]
  },
  {
   "cell_type": "code",
   "execution_count": null,
   "id": "59cb393a-a5f0-49bb-898c-d22f09a8f9fd",
   "metadata": {},
   "outputs": [],
   "source": []
  }
 ],
 "metadata": {
  "kernelspec": {
   "display_name": "Octave",
   "language": "octave",
   "name": "octave"
  },
  "language_info": {
   "file_extension": ".m",
   "help_links": [
    {
     "text": "GNU Octave",
     "url": "https://www.gnu.org/software/octave/support.html"
    },
    {
     "text": "Octave Kernel",
     "url": "https://github.com/Calysto/octave_kernel"
    },
    {
     "text": "MetaKernel Magics",
     "url": "https://metakernel.readthedocs.io/en/latest/source/README.html"
    }
   ],
   "mimetype": "text/x-octave",
   "name": "octave",
   "version": "\u001b[?2004h"
  }
 },
 "nbformat": 4,
 "nbformat_minor": 5
}
