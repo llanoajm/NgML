{
 "cells": [
  {
   "cell_type": "markdown",
   "id": "5829f778-8065-4568-9fe9-9f1567fe3bed",
   "metadata": {},
   "source": [
    "**For exploring Logistic Regression: classification**\n",
    "\n",
    "Categories: regression, supervised, classification, batch\n",
    "\n",
    "**Functions**: confidence interval, loss reduction, decision boundary."
   ]
  }
 ],
 "metadata": {
  "kernelspec": {
   "display_name": "Octave",
   "language": "octave",
   "name": "octave"
  },
  "language_info": {
   "file_extension": ".m",
   "help_links": [
    {
     "text": "GNU Octave",
     "url": "https://www.gnu.org/software/octave/support.html"
    },
    {
     "text": "Octave Kernel",
     "url": "https://github.com/Calysto/octave_kernel"
    },
    {
     "text": "MetaKernel Magics",
     "url": "https://metakernel.readthedocs.io/en/latest/source/README.html"
    }
   ],
   "mimetype": "text/x-octave",
   "name": "octave",
   "version": "\u001b[?2004h"
  }
 },
 "nbformat": 4,
 "nbformat_minor": 5
}
