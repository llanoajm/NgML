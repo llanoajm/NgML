{
 "cells": [
  {
   "cell_type": "markdown",
   "id": "32a377e2-06e7-48d9-94eb-8b8441895d67",
   "metadata": {},
   "source": [
    "**Basic Operations in Octave**\n",
    "\n",
    "- Displaying and printing\n",
    "- String Formating\n",
    "- matrix creation, vectorization\n",
    "- random number generation\n",
    "- basic plotting\n",
    "- help command"
   ]
  },
  {
   "cell_type": "code",
   "execution_count": 16,
   "id": "f04700a7-fa64-48ef-822a-5fd49f8d440c",
   "metadata": {},
   "outputs": [
    {
     "name": "stdout",
     "output_type": "stream",
     "text": [
      "3.141592653589793\n",
      "2 decimals: 3.14\n",
      "a = 3.14159265358979304l\n",
      "a = 3.1416?2004l\u001b[?2004l\n",
      "\u001b[?2004h"
     ]
    }
   ],
   "source": [
    "a = pi;\n",
    "disp(a)\n",
    "disp(sprintf('2 decimals: %0.2f', a))\n",
    "format long\n",
    "a\n",
    "format short\n",
    "a"
   ]
  },
  {
   "cell_type": "code",
   "execution_count": 35,
   "id": "a417b37f-e1e8-468b-8e7a-067fa5c1121d",
   "metadata": {},
   "outputs": [
    {
     "name": "stdout",
     "output_type": "stream",
     "text": [
      " Columns 1 through 8:\n",
      "\n",
      "         0    0.1000    0.2000    0.3000    0.4000    0.5000    0.6000    0.7000\n",
      "\n",
      " Columns 9 through 11:\n",
      "\n",
      "    0.8000    0.9000    1.0000\n",
      "   0   1   2   3   4   5   6\n",
      "ans =04h\u001b[?2004l\u001b[?2004l\n",
      "\n",
      "   2   2   2\n",
      "   2   2   2\n",
      "\n",
      "ans =04h\u001b[?2004l\u001b[?2004l\n",
      "\n",
      "   0.2000   0.2000\n",
      "   0.2000   0.2000\n",
      "\n",
      "a =2004h\u001b[?2004l\u001b[?2004l\n",
      "\n",
      "   0.4730   0.2005   0.6317\n",
      "   0.4483   0.4882   0.3236\n",
      "   0.4919   0.7609   0.8707\n",
      "\n",
      "ans =04h\u001b[?2004l\u001b[?2004l\n",
      "\n",
      "   0.5982  -1.6870  -1.7350   1.0878\n",
      "\n",
      "ans =04h\u001b[?2004l\u001b[?2004l\n",
      "\n",
      "Diagonal Matrix\n",
      "\n",
      "   1   0   0   0\n",
      "   0   1   0   0\n",
      "   0   0   1   0\n",
      "   0   0   0   1\n",
      "\n",
      "\u001b[?2004h\u001b[?2004l\u001b[?2004l"
     ]
    },
    {
     "data": {
      "image/png": "[encoded data removed]",
      "text/plain": [
       "<IPython.core.display.Image object>"
      ]
     },
     "metadata": {},
     "output_type": "display_data"
    }
   ],
   "source": [
    "%Matrices\n",
    "disp(v = 0:0.1:1)\n",
    "\n",
    "disp(z = 0:6)\n",
    "\n",
    "ones(2,3)*2 %scalar multiplication\n",
    "\n",
    "zeros(2,2)+0.2\n",
    "\n",
    "a = rand(3,3)\n",
    "\n",
    "randn(1,4) % drawn from a gaussian distribution\n",
    "\n",
    "eye(4) % Identitiy matrix\n",
    "\n",
    "hist(a)"
   ]
  },
  {
   "cell_type": "code",
   "execution_count": 36,
   "id": "73bdf45d-5c8b-41f6-bc5b-2296ed0c33bb",
   "metadata": {},
   "outputs": [
    {
     "name": "stdout",
     "output_type": "stream",
     "text": [
      "'randn' is a built-in function from the file libinterp/corefcn/rand.cc\n",
      "\n",
      " -- randn (N)\n",
      " -- randn (M, N, ...)\n",
      " -- randn ([M N ...])\n",
      " -- V = randn (\"state\")\n",
      " -- randn (\"state\", V)\n",
      " -- randn (\"state\", \"reset\")\n",
      " -- V = randn (\"seed\")\n",
      " -- randn (\"seed\", V)\n",
      " -- randn (\"seed\", \"reset\")\n",
      " -- randn (..., \"single\")\n",
      " -- randn (..., \"double\")\n",
      "     Return a matrix with normally distributed random elements having\n",
      "     zero mean and variance one.\n",
      "\n",
      "     The arguments are handled the same as the arguments for 'rand'.\n",
      "\n",
      "     By default, 'randn' uses the Marsaglia and Tsang \"Ziggurat\n",
      "     technique\" to transform from a uniform to a normal distribution.\n",
      "\n",
      "     The class of the value returned can be controlled by a trailing\n",
      "     \"double\" or \"single\" argument.  These are the only valid classes.\n",
      "\n",
      "     Reference: G. Marsaglia and W.W. Tsang, 'Ziggurat Method for\n",
      "     Generating Random Variables', J. Statistical Software, vol 5, 2000,\n",
      "     <https://www.jstatsoft.org/v05/i08/>\n",
      "\n",
      "     See also: rand, rande, randg, randp.\n",
      "\n",
      "Additional help for built-in functions and operators is\n",
      "available in the online version of the manual.  Use the command\n",
      "'doc <topic>' to search the manual index.\n",
      "\n",
      "Help and information about Octave is also available on the WWW\n",
      "at https://www.octave.org and via the help@octave.org\n",
      "mailing list.\n",
      "\u001b[?2004h"
     ]
    }
   ],
   "source": [
    "help randn"
   ]
  }
 ],
 "metadata": {
  "kernelspec": {
   "display_name": "Octave",
   "language": "octave",
   "name": "octave"
  },
  "language_info": {
   "file_extension": ".m",
   "help_links": [
    {
     "text": "GNU Octave",
     "url": "https://www.gnu.org/software/octave/support.html"
    },
    {
     "text": "Octave Kernel",
     "url": "https://github.com/Calysto/octave_kernel"
    },
    {
     "text": "MetaKernel Magics",
     "url": "https://metakernel.readthedocs.io/en/latest/source/README.html"
    }
   ],
   "mimetype": "text/x-octave",
   "name": "octave",
   "version": "\u001b[?2004h"
  }
 },
 "nbformat": 4,
 "nbformat_minor": 5
}
