{
 "cells": [
  {
   "cell_type": "code",
   "execution_count": null,
   "id": "2a2a8f9d-8560-4ff0-8b22-93b795770906",
   "metadata": {},
   "outputs": [],
   "source": []
  }
 ],
 "metadata": {
  "kernelspec": {
   "display_name": "Octave",
   "language": "octave",
   "name": "octave"
  },
  "language_info": {
   "name": ""
  }
 },
 "nbformat": 4,
 "nbformat_minor": 5
}
