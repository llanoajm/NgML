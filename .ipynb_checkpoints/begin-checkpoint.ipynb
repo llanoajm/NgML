{
 "cells": [
  {
   "cell_type": "markdown",
   "id": "85a9f2e5-7ea6-4e78-8a9e-9d7722e91273",
   "metadata": {},
   "source": [
    "***Gradient Descent Algorithm from scratch*** \n",
    "\n",
    "*Data Fetching w Feature Scaling and Mean Regularization.*\n",
    "\n",
    "*Simultaneous updating for weigths according to the cost function*\n",
    "\n",
    "*User-defined iterations and learning rate*\n",
    "\n",
    "*Automatic measure of convergence -- no plotting*\n",
    "\n",
    "no normal equation"
   ]
  },
  {
   "cell_type": "code",
   "execution_count": 23,
   "id": "b566afd8-5466-413c-88de-ddc603de0106",
   "metadata": {},
   "outputs": [
    {
     "name": "stdout",
     "output_type": "stream",
     "text": [
      "training =\n",
      "\n",
      "   1   2   3\n",
      "   4   5   6\n",
      "   7   8   9\n",
      "\n",
      "theta =h\u001b[?2004l\n",
      "\n",
      "   1\n",
      "   1\n",
      "   1\n",
      "\n",
      "theta =h\u001b[?2004l\n",
      "\n",
      "   1   1   1\n",
      "\n",
      "training =?2004l\n",
      "\n",
      "   1   4   7\n",
      "   2   5   8\n",
      "   3   6   9\n",
      "\n",
      "ans =04h\u001b[?2004l\n",
      "\n",
      "    6   15   24\n",
      "\n",
      "\u001b[?2004h"
     ]
    }
   ],
   "source": [
    "training = [1,2,3;4,5,6; 7,8,9]\n",
    "theta = [1; 1; 1]\n",
    "theta = theta'\n",
    "training = training'\n",
    "theta * training"
   ]
  },
  {
   "cell_type": "code",
   "execution_count": null,
   "id": "e4b0b3e3-355a-4e42-a428-cca46c0f3083",
   "metadata": {},
   "outputs": [],
   "source": []
  }
 ],
 "metadata": {
  "kernelspec": {
   "display_name": "Octave",
   "language": "octave",
   "name": "octave"
  },
  "language_info": {
   "file_extension": ".m",
   "help_links": [
    {
     "text": "GNU Octave",
     "url": "https://www.gnu.org/software/octave/support.html"
    },
    {
     "text": "Octave Kernel",
     "url": "https://github.com/Calysto/octave_kernel"
    },
    {
     "text": "MetaKernel Magics",
     "url": "https://metakernel.readthedocs.io/en/latest/source/README.html"
    }
   ],
   "mimetype": "text/x-octave",
   "name": "octave",
   "version": "\u001b[?2004h"
  }
 },
 "nbformat": 4,
 "nbformat_minor": 5
}
