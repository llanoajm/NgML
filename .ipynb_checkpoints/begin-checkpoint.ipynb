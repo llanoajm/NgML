{
 "cells": [
  {
   "cell_type": "markdown",
   "id": "85a9f2e5-7ea6-4e78-8a9e-9d7722e91273",
   "metadata": {},
   "source": [
    "***Gradient Descent Algorithm from scratch*** \n",
    "\n",
    "*Data Fetching w Feature Scaling and Mean Regularization.*\n",
    "\n",
    "*Simultaneous updating for weigths according to the cost function*\n",
    "\n",
    "*User-defined iterations and learning rate*\n",
    "\n",
    "*Automatic measure of convergence -- no plotting*\n",
    "\n",
    "no normal equation\n",
    "\n",
    "**TODO**\n",
    "\n",
    "- feature scaling\n",
    "- updating theta\n",
    "- measure of convergence\n",
    "- calculating derivative in performance function"
   ]
  },
  {
   "cell_type": "code",
   "execution_count": 56,
   "id": "3548ea9b-1cf3-4edd-a8d7-acc7a0430b86",
   "metadata": {
    "tags": []
   },
   "outputs": [
    {
     "name": "stdout",
     "output_type": "stream",
     "text": [
      "results =[?2004l\u001b[?2004l\u001b[?2004l\u001b[?2004l\u001b[?2004l\u001b[?2004l\u001b[?2004l\n",
      "\n",
      "   200\n",
      "   300\n",
      "   400\n",
      "\n",
      "\u001b[?2004h\u001b[?2004l\u001b[?2004l\u001b[?2004l\u001b[?2004l"
     ]
    }
   ],
   "source": [
    "    clear all\n",
    "    pkg load symbolic\n",
    "    \n",
    "    global training = [1,2,3;4,5,6; 7,8,9]\n",
    "    global theta = [1; 1; 1];\n",
    "    theta = theta';\n",
    "    global results = [200;300;400]\n",
    "    global n = size(training,2);\n",
    "    global m = size(training,1);\n",
    "    \n",
    "    #feature scaling\n",
    "    \n",
    "    "
   ]
  },
  {
   "cell_type": "code",
   "execution_count": 51,
   "id": "f2d546bd-8ecf-43c9-a5b4-8b3dc26ae996",
   "metadata": {},
   "outputs": [
    {
     "name": "stdout",
     "output_type": "stream",
     "text": [
      "\u001b[?2004h\u001b[?2004l\u001b[?2004l\u001b[?2004l\u001b[?2004l\u001b[?2004l\u001b[?2004l\u001b[?2004l\u001b[?2004l\u001b[?2004l\u001b[?2004l\u001b[?2004l\u001b[?2004l\u001b[?2004l"
     ]
    }
   ],
   "source": [
    "function performance(localTheta)\n",
    "    global m;\n",
    "    global n;\n",
    "    global training\n",
    "    global results\n",
    "    \n",
    "    \n",
    "    cost = 0;\n",
    "    for i = 1:m\n",
    "        cost += localTheta * training - results(i,1)\n",
    "    endfor\n",
    "    #\n",
    "    \n",
    "endfunction"
   ]
  },
  {
   "cell_type": "code",
   "execution_count": 52,
   "id": "ec44dc56-d892-4b23-b1e2-13e7eb4ad813",
   "metadata": {},
   "outputs": [
    {
     "name": "stdout",
     "output_type": "stream",
     "text": [
      "\u001b[?2004h\u001b[?2004l\u001b[?2004l\u001b[?2004l\u001b[?2004l\u001b[?2004l\u001b[?2004l\u001b[?2004l\u001b[?2004l\u001b[?2004l\u001b[?2004l\u001b[?2004l\u001b[?2004l\u001b[?2004l\u001b[?2004l\u001b[?2004l\u001b[?2004l\u001b[?2004l\u001b[?2004l\u001b[?2004l\u001b[?2004l\u001b[?2004l\u001b[?2004l"
     ]
    }
   ],
   "source": [
    "function sim_update()\n",
    "\n",
    "    global n;\n",
    "    featuresAmount = n;\n",
    "    global theta;\n",
    "    global training;\n",
    "    global results;\n",
    "    newTheta = theta;\n",
    "    finalTheta = theta;\n",
    "    learning_rate = 0.5;\n",
    "    delta = 0.001;\n",
    "    for f = 1:n\n",
    "        newTheta = theta;\n",
    "        newTheta(1,f) = theta(1,f) + delta;\n",
    "        finalTheta(1,f) = theta(1,f) + delta; \n",
    "        \n",
    "        #theta(1,f) = learning_rate * ((performance(newTheta) - performance(theta))/delta);\n",
    "    endfor\n",
    "    \n",
    "    \n",
    "\n",
    "    \n",
    "endfunction"
   ]
  },
  {
   "cell_type": "code",
   "execution_count": 53,
   "id": "f6bd2d0c-195e-4c2b-b56a-d45b82122e61",
   "metadata": {
    "tags": []
   },
   "outputs": [
    {
     "name": "stdout",
     "output_type": "stream",
     "text": [
      "\u001b[?2004h\u001b[?2004l\u001b[?2004l\u001b[?2004l\u001b[?2004l\u001b[?2004l"
     ]
    }
   ],
   "source": [
    "function beginTraining(iterations)\n",
    "\n",
    "    for i = 1:iterations\n",
    "        sim_update();\n",
    "    endfor\n",
    "endfunction"
   ]
  },
  {
   "cell_type": "code",
   "execution_count": 54,
   "id": "f1808a16-9c61-4084-855f-e7960285607f",
   "metadata": {},
   "outputs": [
    {
     "name": "stdout",
     "output_type": "stream",
     "text": [
      "\u001b[?2004h"
     ]
    }
   ],
   "source": [
    "beginTraining(1);"
   ]
  }
 ],
 "metadata": {
  "kernelspec": {
   "display_name": "Octave",
   "language": "octave",
   "name": "octave"
  },
  "language_info": {
   "file_extension": ".m",
   "help_links": [
    {
     "text": "GNU Octave",
     "url": "https://www.gnu.org/software/octave/support.html"
    },
    {
     "text": "Octave Kernel",
     "url": "https://github.com/Calysto/octave_kernel"
    },
    {
     "text": "MetaKernel Magics",
     "url": "https://metakernel.readthedocs.io/en/latest/source/README.html"
    }
   ],
   "mimetype": "text/x-octave",
   "name": "octave",
   "version": "\u001b[?2004h"
  }
 },
 "nbformat": 4,
 "nbformat_minor": 5
}
